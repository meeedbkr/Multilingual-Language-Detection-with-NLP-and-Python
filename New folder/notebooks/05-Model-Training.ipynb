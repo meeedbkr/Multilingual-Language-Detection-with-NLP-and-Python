{
 "cells": [
  {
   "cell_type": "code",
   "execution_count": 12,
   "id": "ecb507e9-0b8d-40ed-a802-c7a7d67941ae",
   "metadata": {
    "tags": []
   },
   "outputs": [
    {
     "name": "stdout",
     "output_type": "stream",
     "text": [
      "Accuracy: 0.8792175161521896\n"
     ]
    },
    {
     "data": {
      "text/plain": [
       "['../models/nb_model.joblib']"
      ]
     },
     "execution_count": 12,
     "metadata": {},
     "output_type": "execute_result"
    }
   ],
   "source": [
    "from sklearn.naive_bayes import MultinomialNB\n",
    "from sklearn.metrics import accuracy_score\n",
    "from scipy import sparse\n",
    "import pandas as pd\n",
    "import joblib\n",
    "\n",
    "# Load the training data from disk\n",
    "X_train = sparse.load_npz('../data/train/train_features.npz')\n",
    "y_train = pd.read_csv('../data/train/train_labels.csv')['language'].values\n",
    "\n",
    "# Train a Naive Bayes model\n",
    "nb_model = MultinomialNB()\n",
    "nb_model.fit(X_train, y_train)\n",
    "\n",
    "# Predict the labels for the test data\n",
    "X_test = sparse.load_npz('../data/test/test_features.npz')\n",
    "y_test = pd.read_csv('../data/test/test_labels.csv')['language'].values\n",
    "y_pred = nb_model.predict(X_test)\n",
    "\n",
    "# Calculate the accuracy of the model\n",
    "accuracy = accuracy_score(y_test, y_pred)\n",
    "print(f\"Accuracy: {accuracy}\")\n",
    "# Save the trained model to disk\n",
    "joblib.dump(nb_model, '../models/nb_model.joblib')\n"
   ]
  },
  {
   "cell_type": "code",
   "execution_count": null,
   "id": "a386b8ce-ed9b-45fb-b048-315293873b53",
   "metadata": {},
   "outputs": [],
   "source": []
  }
 ],
 "metadata": {
  "kernelspec": {
   "display_name": "Python 3 (ipykernel)",
   "language": "python",
   "name": "python3"
  },
  "language_info": {
   "codemirror_mode": {
    "name": "ipython",
    "version": 3
   },
   "file_extension": ".py",
   "mimetype": "text/x-python",
   "name": "python",
   "nbconvert_exporter": "python",
   "pygments_lexer": "ipython3",
   "version": "3.9.10"
  }
 },
 "nbformat": 4,
 "nbformat_minor": 5
}
