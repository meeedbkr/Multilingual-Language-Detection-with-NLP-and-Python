{
 "cells": [
  {
   "cell_type": "code",
   "execution_count": 18,
   "id": "5cdc9f54-41f2-4b0e-b811-ef228d1588f2",
   "metadata": {
    "tags": []
   },
   "outputs": [
    {
     "name": "stdout",
     "output_type": "stream",
     "text": [
      "Training set shape: (22287, 54998) (22287,)\n",
      "Testing set shape: (5572, 54998) (5572,)\n"
     ]
    },
    {
     "data": {
      "text/plain": [
       "<27859x54998 sparse matrix of type '<class 'numpy.float64'>'\n",
       "\twith 356248 stored elements in Compressed Sparse Row format>"
      ]
     },
     "execution_count": 18,
     "metadata": {},
     "output_type": "execute_result"
    }
   ],
   "source": [
    "from sklearn.model_selection import train_test_split\n",
    "import pandas as pd\n",
    "from scipy import sparse\n",
    "\n",
    "# Load the feature vectors from disk\n",
    "features = sparse.load_npz('../data/features.npz')\n",
    "cleaned_data = pd.read_csv('../data/clean_data.csv')\n",
    "# Load the labels from the cleaned data\n",
    "labels = cleaned_data['language']\n",
    "\n",
    "# Split the data into training and testing sets\n",
    "X_train, X_test, y_train, y_test = train_test_split(features, labels, test_size=0.2, random_state=42)\n",
    "\n",
    "# Print the shapes of the training and testing sets\n",
    "print(\"Training set shape:\", X_train.shape, y_train.shape)\n",
    "print(\"Testing set shape:\", X_test.shape, y_test.shape)\n",
    "\n",
    "# Save the training and testing sets to disk\n",
    "sparse.save_npz('../data/train/train_features.npz', X_train)\n",
    "sparse.save_npz('../data/test/test_features.npz', X_test)\n",
    "y_train.to_csv('../data/train/train_labels.csv', index=False)\n",
    "y_test.to_csv('../data/test/test_labels.csv', index=False)\n",
    "sparse.load_npz('../data/features.npz')"
   ]
  },
  {
   "cell_type": "code",
   "execution_count": null,
   "id": "5adc4b89-1030-4415-824d-cc3e19864565",
   "metadata": {},
   "outputs": [],
   "source": []
  }
 ],
 "metadata": {
  "kernelspec": {
   "display_name": "Python 3 (ipykernel)",
   "language": "python",
   "name": "python3"
  },
  "language_info": {
   "codemirror_mode": {
    "name": "ipython",
    "version": 3
   },
   "file_extension": ".py",
   "mimetype": "text/x-python",
   "name": "python",
   "nbconvert_exporter": "python",
   "pygments_lexer": "ipython3",
   "version": "3.9.10"
  }
 },
 "nbformat": 4,
 "nbformat_minor": 5
}
