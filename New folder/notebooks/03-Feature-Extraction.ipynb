{
 "cells": [
  {
   "cell_type": "markdown",
   "id": "a9b26da8-6aeb-4552-84be-71b8dda30f80",
   "metadata": {
    "tags": []
   },
   "source": [
    "# 03-Feature-Extraction.ipynb"
   ]
  },
  {
   "cell_type": "code",
   "execution_count": 5,
   "id": "37b6ae9c-927f-421a-88cc-ff27b45b6103",
   "metadata": {
    "tags": []
   },
   "outputs": [],
   "source": [
    "# Import necessary libraries\n",
    "import pandas as pd\n",
    "from sklearn.feature_extraction.text import CountVectorizer, TfidfVectorizer\n",
    "from scipy import sparse\n",
    "import joblib\n",
    "\n",
    "# Load cleaned data from disk\n",
    "cleaned_data = pd.read_csv('../data/clean_data.csv')\n",
    "\n",
    "# Define feature extraction technique (BoW or TF-IDF)\n",
    "feature_extraction = TfidfVectorizer()\n",
    "\n",
    "# Extract features from cleaned data\n",
    "features = feature_extraction.fit_transform(cleaned_data['content'])\n",
    "\n",
    "# Save feature extraction model to disk\n",
    "joblib.dump(feature_extraction, '../models/feature_extraction.joblib')\n",
    "\n",
    "# Save feature vectors to disk\n",
    "sparse.save_npz('../data/features.npz', features)\n"
   ]
  },
  {
   "cell_type": "code",
   "execution_count": null,
   "id": "fbae820e-3f66-4517-a840-b12325a59593",
   "metadata": {},
   "outputs": [],
   "source": []
  }
 ],
 "metadata": {
  "kernelspec": {
   "display_name": "Python 3 (ipykernel)",
   "language": "python",
   "name": "python3"
  },
  "language_info": {
   "codemirror_mode": {
    "name": "ipython",
    "version": 3
   },
   "file_extension": ".py",
   "mimetype": "text/x-python",
   "name": "python",
   "nbconvert_exporter": "python",
   "pygments_lexer": "ipython3",
   "version": "3.9.10"
  }
 },
 "nbformat": 4,
 "nbformat_minor": 5
}
