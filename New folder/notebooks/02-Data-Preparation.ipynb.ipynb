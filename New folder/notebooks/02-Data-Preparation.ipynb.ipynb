{
 "cells": [
  {
   "cell_type": "markdown",
   "id": "9f0cd446-32cf-4e58-820b-479fe3112d17",
   "metadata": {},
   "source": [
    "# 02-Data-Preparation.ipynb"
   ]
  },
  {
   "cell_type": "code",
   "execution_count": 64,
   "id": "d3f51484-2f91-46e6-99fd-429e7fcc7b23",
   "metadata": {
    "tags": []
   },
   "outputs": [
    {
     "name": "stderr",
     "output_type": "stream",
     "text": [
      "[nltk_data] Downloading package stopwords to\n",
      "[nltk_data]     C:\\Users\\moham\\AppData\\Roaming\\nltk_data...\n",
      "[nltk_data]   Package stopwords is already up-to-date!\n",
      "[nltk_data] Downloading package punkt to\n",
      "[nltk_data]     C:\\Users\\moham\\AppData\\Roaming\\nltk_data...\n",
      "[nltk_data]   Package punkt is already up-to-date!\n"
     ]
    }
   ],
   "source": [
    "import re\n",
    "import string\n",
    "import nltk\n",
    "from nltk.corpus import stopwords\n",
    "from nltk.stem import SnowballStemmer\n",
    "import pandas as pd\n",
    "nltk.download('stopwords')\n",
    "nltk.download('punkt')\n",
    "\n",
    "# Define function to preprocess and clean text\n",
    "def preprocess_text(text):\n",
    "    if not isinstance(text, (str, bytes)):\n",
    "        return ''\n",
    "    # Remove URLs, mentions, and hashtags\n",
    "    text = re.sub(r'https?\\S+', '', text)\n",
    "    text = re.sub(r'@\\S+', '', text)\n",
    "    text = re.sub(r'#\\S+', '', text)\n",
    "    # Remove non-alphabetic characters and numbers\n",
    "    text = re.findall(r'\\b(?!\\d+\\b)[a-zA-Z0-9]+\\b', text)\n",
    "    # Convert text to lowercase\n",
    "    text = ' '.join(text).lower().strip()\n",
    "    # Tokenize text into words\n",
    "    tokens = nltk.word_tokenize(text)\n",
    "    # Remove stopwords\n",
    "    tokens = [token for token in tokens if token not in stopwords.words('english')]\n",
    "    # Remove punctuation\n",
    "    tokens = [token for token in tokens if token not in string.punctuation]\n",
    "    # Stem words\n",
    "    stemmer = SnowballStemmer('english')\n",
    "    tokens = [stemmer.stem(token) for token in tokens]\n",
    "    # Join tokens back into text\n",
    "    text = ' '.join(tokens)\n",
    "    return text\n",
    "\n",
    "# Define function to preprocess and clean all collected tweets\n",
    "def preprocess_tweets(tweets):\n",
    "    for tweet in tweets:\n",
    "        tweet['content'] = preprocess_text(tweet['content'])\n",
    "        \n",
    "#read raw data\n",
    "df =  pd.read_csv('../data/raw_data.csv')\n",
    "# clean the dataframe\n",
    "df['content'] = df['content'].apply(lambda x: preprocess_text(x))"
   ]
  },
  {
   "cell_type": "code",
   "execution_count": 76,
   "id": "57a77599-2c02-40d2-b085-3d84ee7fae46",
   "metadata": {
    "tags": []
   },
   "outputs": [],
   "source": [
    "# drop duplicates\n",
    "df.drop_duplicates(subset=['content'],inplace=True)\n",
    "# drop empty content\n",
    "df.drop(index=df[df['content'] == ''].index, inplace=True)\n",
    "# counting the number of sentences after cleaning\n",
    "df['language'].value_counts()\n",
    "# save clean data\n",
    "df.to_csv('../data/clean_data.csv',encoding='utf-8')"
   ]
  }
 ],
 "metadata": {
  "kernelspec": {
   "display_name": "Python 3 (ipykernel)",
   "language": "python",
   "name": "python3"
  },
  "language_info": {
   "codemirror_mode": {
    "name": "ipython",
    "version": 3
   },
   "file_extension": ".py",
   "mimetype": "text/x-python",
   "name": "python",
   "nbconvert_exporter": "python",
   "pygments_lexer": "ipython3",
   "version": "3.9.10"
  }
 },
 "nbformat": 4,
 "nbformat_minor": 5
}
