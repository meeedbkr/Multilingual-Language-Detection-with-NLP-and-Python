{
 "cells": [
  {
   "cell_type": "code",
   "execution_count": 38,
   "id": "4eb67a04-db0c-45cf-9fd6-e8ea333cce24",
   "metadata": {
    "tags": []
   },
   "outputs": [
    {
     "name": "stdout",
     "output_type": "stream",
     "text": [
      "Accuracy: 0.8792\n",
      "Precision: 0.8871\n",
      "Recall: 0.8792\n",
      "F1-score: 0.8792\n"
     ]
    }
   ],
   "source": [
    "import pandas as pd\n",
    "from scipy import sparse\n",
    "from sklearn.metrics import accuracy_score, precision_score, recall_score, f1_score\n",
    "import joblib\n",
    "\n",
    "# Load the testing data and labels\n",
    "X_test = sparse.load_npz('../data/test/test_features.npz')\n",
    "y_test = pd.read_csv('../data/test/test_labels.csv')['language']\n",
    "\n",
    "# Load the trained model\n",
    "model = joblib.load('../models/nb_model.joblib')\n",
    "\n",
    "# Make predictions on the testing set\n",
    "y_pred = model.predict(X_test)\n",
    "\n",
    "# Calculate evaluation metrics\n",
    "accuracy = accuracy_score(y_test, y_pred)  # calculate accuracy\n",
    "precision = precision_score(y_test, y_pred, average='weighted')  # calculate precision\n",
    "recall = recall_score(y_test, y_pred, average='weighted')  # calculate recall\n",
    "f1 = f1_score(y_test, y_pred, average='weighted')  # calculate F1-score\n",
    "\n",
    "# Print the evaluation metrics\n",
    "print(f\"Accuracy: {accuracy:.4f}\")  # print accuracy\n",
    "print(f\"Precision: {precision:.4f}\")  # print precision\n",
    "print(f\"Recall: {recall:.4f}\")  # print recall\n",
    "print(f\"F1-score: {f1:.4f}\")  # print F1-score"
   ]
  },
  {
   "cell_type": "code",
   "execution_count": 57,
   "id": "c923ab76-5b59-4d5c-9e5a-e147a96c6ee1",
   "metadata": {},
   "outputs": [
    {
     "name": "stdout",
     "output_type": "stream",
     "text": [
      "Darija\n",
      "English\n",
      "French\n"
     ]
    }
   ],
   "source": [
    "import joblib\n",
    "\n",
    "# Load the feature extraction joblib file\n",
    "feature_extraction = joblib.load('../models/feature_extraction.joblib')\n",
    "\n",
    "# Load your input text\n",
    "inputs = [\"Wach assat ach tat3awed?\" , \"Heey there what's up?\" , \"Salut, quoi de neuf ?\" ]\n",
    "\n",
    "# Load the trained model\n",
    "model = joblib.load('../models/nb_model.joblib')\n",
    "\n",
    "# Make a prediction on the input features\n",
    "for input_ in inputs:\n",
    "    # Transform the input text into a feature vector\n",
    "    input_features = feature_extraction.transform([input_])\n",
    "    prediction = model.predict(input_features)\n",
    "    # Print the predicted language\n",
    "    print(prediction[0])\n"
   ]
  },
  {
   "cell_type": "code",
   "execution_count": null,
   "id": "d9930c04-2b4e-486e-8035-eaf82e1459bc",
   "metadata": {},
   "outputs": [],
   "source": []
  }
 ],
 "metadata": {
  "kernelspec": {
   "display_name": "Python 3 (ipykernel)",
   "language": "python",
   "name": "python3"
  },
  "language_info": {
   "codemirror_mode": {
    "name": "ipython",
    "version": 3
   },
   "file_extension": ".py",
   "mimetype": "text/x-python",
   "name": "python",
   "nbconvert_exporter": "python",
   "pygments_lexer": "ipython3",
   "version": "3.9.10"
  }
 },
 "nbformat": 4,
 "nbformat_minor": 5
}
