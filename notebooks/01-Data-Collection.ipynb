{
 "cells": [
  {
   "cell_type": "markdown",
   "id": "9a9b7164-9303-466d-818d-e150aa8de7b5",
   "metadata": {},
   "source": [
    "# 1. Data Collection"
   ]
  },
  {
   "cell_type": "code",
   "execution_count": 29,
   "id": "0dd76842-4ae0-451f-81ee-821eff8094c6",
   "metadata": {
    "tags": []
   },
   "outputs": [],
   "source": [
    "# import libraries\n",
    "import snscrape.modules.twitter as sntwitter\n",
    "import pandas as pd\n",
    "import time"
   ]
  },
  {
   "cell_type": "markdown",
   "id": "0c13a763-7101-4cd7-b2e5-bbae2a07e08f",
   "metadata": {},
   "source": [
    "## Step 1: Collecting Text Data"
   ]
  },
  {
   "cell_type": "markdown",
   "id": "0054bc8c-44fa-40cd-991d-a3a4c20bca58",
   "metadata": {},
   "source": [
    "Collect text data for each language of interest (Darija, English, French)"
   ]
  },
  {
   "cell_type": "code",
   "execution_count": 4,
   "id": "67c9e2e8-9b85-40aa-ad63-c9f19185b173",
   "metadata": {
    "tags": []
   },
   "outputs": [
    {
     "name": "stdout",
     "output_type": "stream",
     "text": [
      "Collected 36 tweets in 26.45 seconds.\n"
     ]
    }
   ],
   "source": [
    "# TODO: Collect text data for Darija, English, and French\n",
    "\n",
    "def search_by_query(query):\n",
    "    return sntwitter.TwitterSearchScraper(query).get_items()\n",
    "\n",
    "def get_tweets(maxTweets, language, queries):\n",
    "    tweets = []\n",
    "    for query in queries:\n",
    "        for i, tweet in enumerate(search_by_query(query)):\n",
    "            tweets.append({'language': language, 'content': tweet.rawContent})\n",
    "            if i >= maxTweets:\n",
    "                break\n",
    "    return tweets\n",
    "        \n",
    "start = time.time()\n",
    "maxTweets = 3000\n",
    "tweets = []\n",
    "queries = {\n",
    "    'darija': ['montakhab', 'darija'],\n",
    "    'french': ['amour', 'cinéma'],\n",
    "    'english': ['technology', 'quotes', ]\n",
    "}\n",
    "for language, language_queries in queries.items():\n",
    "    print(1)\n",
    "    tweets += get_tweets(maxTweets, language, language_queries)\n",
    "end = time.time()\n",
    "\n",
    "# Print number of collected tweets and time taken for scraping\n",
    "print(f\"Collected {len(tweets)} tweets in {end - start:.2f} seconds.\")\n",
    "# transform the tweets to dataframe\n",
    "df = pd.DataFrame(tweets)\n",
    "# save the dataframe to scv\n",
    "df.to_csv('../data/row_data.csv',index=False,encoding='utf-8')"
   ]
  }
 ],
 "metadata": {
  "kernelspec": {
   "display_name": "Python 3 (ipykernel)",
   "language": "python",
   "name": "python3"
  },
  "language_info": {
   "codemirror_mode": {
    "name": "ipython",
    "version": 3
   },
   "file_extension": ".py",
   "mimetype": "text/x-python",
   "name": "python",
   "nbconvert_exporter": "python",
   "pygments_lexer": "ipython3",
   "version": "3.9.10"
  }
 },
 "nbformat": 4,
 "nbformat_minor": 5
}
