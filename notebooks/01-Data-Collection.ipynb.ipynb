{
 "cells": [
  {
   "cell_type": "markdown",
   "id": "9a9b7164-9303-466d-818d-e150aa8de7b5",
   "metadata": {},
   "source": [
    "# 1. Data Collection"
   ]
  },
  {
   "cell_type": "markdown",
   "id": "0c13a763-7101-4cd7-b2e5-bbae2a07e08f",
   "metadata": {},
   "source": [
    "## Step 1: Collecting Text Data"
   ]
  },
  {
   "cell_type": "markdown",
   "id": "0054bc8c-44fa-40cd-991d-a3a4c20bca58",
   "metadata": {},
   "source": [
    "Collect text data for each language of interest (Darija, English, French)"
   ]
  },
  {
   "cell_type": "code",
   "execution_count": 1,
   "id": "67c9e2e8-9b85-40aa-ad63-c9f19185b173",
   "metadata": {
    "tags": []
   },
   "outputs": [],
   "source": [
    "# TODO: Collect text data for Darija, English, and French"
   ]
  },
  {
   "cell_type": "markdown",
   "id": "780e17df-b21a-4de2-b4bb-694d48fcd144",
   "metadata": {},
   "source": [
    "## Step 2: Cleaning the Data"
   ]
  },
  {
   "cell_type": "markdown",
   "id": "989703d3-da5c-4e26-be96-b1899a3d444a",
   "metadata": {},
   "source": [
    "Clean the text data by removing unnecessary characters, punctuation, and stopwords."
   ]
  },
  {
   "cell_type": "code",
   "execution_count": 2,
   "id": "5158b4fd-80b1-499f-b6d0-45e59e37486b",
   "metadata": {
    "tags": []
   },
   "outputs": [],
   "source": [
    "# TODO: Clean the text data by removing unnecessary characters, punctuation, and stopwords"
   ]
  },
  {
   "cell_type": "markdown",
   "id": "d527b914-9d3b-4e47-80a7-5fa26f227537",
   "metadata": {
    "tags": []
   },
   "source": [
    "## Step 3: Splitting the Data"
   ]
  },
  {
   "cell_type": "markdown",
   "id": "fa63644e-6c90-4b99-80c9-ffcee6f6a421",
   "metadata": {},
   "source": [
    "Split the preprocessed data into training and testing sets."
   ]
  },
  {
   "cell_type": "code",
   "execution_count": null,
   "id": "1289cbd0-b2a8-4d34-badb-25600ae56f2c",
   "metadata": {},
   "outputs": [],
   "source": [
    "# TODO: Split the preprocessed data into training and testing sets"
   ]
  },
  {
   "cell_type": "markdown",
   "id": "b6bd623f-e29a-48ee-86da-8a306f869cf2",
   "metadata": {},
   "source": [
    "## Step 4: Saving the Data"
   ]
  },
  {
   "cell_type": "markdown",
   "id": "716529ae-b860-4ac0-b707-986a35d37990",
   "metadata": {},
   "source": [
    "Save the preprocessed data to disk for future use in training and evaluating the language detection model"
   ]
  },
  {
   "cell_type": "code",
   "execution_count": null,
   "id": "15637af4-9381-45dd-b8a4-0ff9703cd070",
   "metadata": {},
   "outputs": [],
   "source": [
    "# TODO: Save the preprocessed data to disk for future use"
   ]
  }
 ],
 "metadata": {
  "kernelspec": {
   "display_name": "Python 3 (ipykernel)",
   "language": "python",
   "name": "python3"
  },
  "language_info": {
   "codemirror_mode": {
    "name": "ipython",
    "version": 3
   },
   "file_extension": ".py",
   "mimetype": "text/x-python",
   "name": "python",
   "nbconvert_exporter": "python",
   "pygments_lexer": "ipython3",
   "version": "3.9.10"
  }
 },
 "nbformat": 4,
 "nbformat_minor": 5
}
