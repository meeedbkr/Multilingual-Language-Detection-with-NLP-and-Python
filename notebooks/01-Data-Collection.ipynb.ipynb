{
 "cells": [
  {
   "cell_type": "markdown",
   "id": "9a9b7164-9303-466d-818d-e150aa8de7b5",
   "metadata": {},
   "source": [
    "# 1. Data Collection"
   ]
  },
  {
   "cell_type": "code",
   "execution_count": 1,
   "id": "0dd76842-4ae0-451f-81ee-821eff8094c6",
   "metadata": {
    "tags": []
   },
   "outputs": [],
   "source": [
    "# import libraries\n",
    "import snscrape.modules.twitter as sntwitter\n",
    "import pandas as pd\n",
    "import time"
   ]
  },
  {
   "cell_type": "markdown",
   "id": "0c13a763-7101-4cd7-b2e5-bbae2a07e08f",
   "metadata": {},
   "source": [
    "## Step 1: Collecting Text Data"
   ]
  },
  {
   "cell_type": "markdown",
   "id": "0054bc8c-44fa-40cd-991d-a3a4c20bca58",
   "metadata": {},
   "source": [
    "Collect text data for each language of interest (Darija, English, French)"
   ]
  },
  {
   "cell_type": "code",
   "execution_count": 4,
   "id": "67c9e2e8-9b85-40aa-ad63-c9f19185b173",
   "metadata": {
    "tags": []
   },
   "outputs": [
    {
     "name": "stdout",
     "output_type": "stream",
     "text": [
      "Collected 36 tweets in 26.45 seconds.\n"
     ]
    }
   ],
   "source": [
    "# TODO: Collect text data for Darija, English, and French\n",
    "\n",
    "def search_by_query(query):\n",
    "    return sntwitter.TwitterSearchScraper(query).get_items()\n",
    "\n",
    "def get_tweets(maxTweets, language, queries):\n",
    "    tweets = []\n",
    "    for query in queries:\n",
    "        for i, tweet in enumerate(search_by_query(query)):\n",
    "            tweets.append({'language': language, 'content': tweet.rawContent})\n",
    "            if i >= maxTweets:\n",
    "                break\n",
    "    return tweets\n",
    "        \n",
    "start = time.time()\n",
    "maxTweets = 3000\n",
    "tweets = []\n",
    "queries = {\n",
    "    'darija': ['montakhab', 'darija'],\n",
    "    'french': ['amour', 'cinéma'],\n",
    "    'english': ['technology', 'quotes', ]\n",
    "}\n",
    "for language, language_queries in queries.items():\n",
    "    print(1)\n",
    "    tweets += get_tweets(maxTweets, language, language_queries)\n",
    "end = time.time()\n",
    "\n",
    "# Print number of collected tweets and time taken for scraping\n",
    "print(f\"Collected {len(tweets)} tweets in {end - start:.2f} seconds.\")\n",
    "# transform the tweets to dataframe\n",
    "df = pd.DataFrame(tweets)\n",
    "# save the dataframe to scv\n",
    "df.to_csv('data.csv')"
   ]
  },
  {
   "cell_type": "markdown",
   "id": "780e17df-b21a-4de2-b4bb-694d48fcd144",
   "metadata": {},
   "source": [
    "## Step 2: Cleaning the Data"
   ]
  },
  {
   "cell_type": "markdown",
   "id": "989703d3-da5c-4e26-be96-b1899a3d444a",
   "metadata": {},
   "source": [
    "Clean the text data by removing unnecessary characters, punctuation, and stopwords."
   ]
  },
  {
   "cell_type": "code",
   "execution_count": 5,
   "id": "5158b4fd-80b1-499f-b6d0-45e59e37486b",
   "metadata": {
    "tags": []
   },
   "outputs": [
    {
     "data": {
      "text/html": [
       "<div>\n",
       "<style scoped>\n",
       "    .dataframe tbody tr th:only-of-type {\n",
       "        vertical-align: middle;\n",
       "    }\n",
       "\n",
       "    .dataframe tbody tr th {\n",
       "        vertical-align: top;\n",
       "    }\n",
       "\n",
       "    .dataframe thead th {\n",
       "        text-align: right;\n",
       "    }\n",
       "</style>\n",
       "<table border=\"1\" class=\"dataframe\">\n",
       "  <thead>\n",
       "    <tr style=\"text-align: right;\">\n",
       "      <th></th>\n",
       "      <th>language</th>\n",
       "      <th>content</th>\n",
       "    </tr>\n",
       "  </thead>\n",
       "  <tbody>\n",
       "    <tr>\n",
       "      <th>0</th>\n",
       "      <td>darija</td>\n",
       "      <td>Visiteur f l'afrique kaaaaamalin wa9ila kydkhl...</td>\n",
       "    </tr>\n",
       "    <tr>\n",
       "      <th>1</th>\n",
       "      <td>darija</td>\n",
       "      <td>Tswira mea chi montakhab hsn mn lmghrib https:...</td>\n",
       "    </tr>\n",
       "    <tr>\n",
       "      <th>2</th>\n",
       "      <td>darija</td>\n",
       "      <td>https://t.co/qh6yOCwNvb</td>\n",
       "    </tr>\n",
       "    <tr>\n",
       "      <th>3</th>\n",
       "      <td>darija</td>\n",
       "      <td>نمیدونم چرا تو زندگیم همش نمیشه....\\nچند برابر...</td>\n",
       "    </tr>\n",
       "    <tr>\n",
       "      <th>4</th>\n",
       "      <td>darija</td>\n",
       "      <td>@tasmdn C’est quoi cette vulgarité ma soeur ? ...</td>\n",
       "    </tr>\n",
       "    <tr>\n",
       "      <th>5</th>\n",
       "      <td>darija</td>\n",
       "      <td>@bent_riif Après le chleuh et le rif c’est dér...</td>\n",
       "    </tr>\n",
       "    <tr>\n",
       "      <th>6</th>\n",
       "      <td>darija</td>\n",
       "      <td>@FranckBelhasSVF En conférence de presse, ils ...</td>\n",
       "    </tr>\n",
       "    <tr>\n",
       "      <th>7</th>\n",
       "      <td>darija</td>\n",
       "      <td>C’est exact Yassine Bounou parle la darija des...</td>\n",
       "    </tr>\n",
       "    <tr>\n",
       "      <th>8</th>\n",
       "      <td>darija</td>\n",
       "      <td>Bismillah kuat ampe Maghrib, no lemes lemes kl...</td>\n",
       "    </tr>\n",
       "    <tr>\n",
       "      <th>9</th>\n",
       "      <td>darija</td>\n",
       "      <td>@fciryshakke abg dha nunggu dri maghrib kh bg😞😞😞</td>\n",
       "    </tr>\n",
       "    <tr>\n",
       "      <th>10</th>\n",
       "      <td>darija</td>\n",
       "      <td>@bernamadotcom Sembahyang maghrib dalam sungai?</td>\n",
       "    </tr>\n",
       "    <tr>\n",
       "      <th>11</th>\n",
       "      <td>darija</td>\n",
       "      <td>@Alhaqqan90 I wait like 3-5 minutes after Magh...</td>\n",
       "    </tr>\n",
       "    <tr>\n",
       "      <th>12</th>\n",
       "      <td>french</td>\n",
       "      <td>la direzione che avrebbe preso la mia vita se ...</td>\n",
       "    </tr>\n",
       "    <tr>\n",
       "      <th>13</th>\n",
       "      <td>french</td>\n",
       "      <td>@lydiarichesse40 @capriciamandala @capri_wilma...</td>\n",
       "    </tr>\n",
       "    <tr>\n",
       "      <th>14</th>\n",
       "      <td>french</td>\n",
       "      <td>@SebukaSteve Voilà docta, il parait que tout l...</td>\n",
       "    </tr>\n",
       "    <tr>\n",
       "      <th>15</th>\n",
       "      <td>french</td>\n",
       "      <td>@musvshi tu parles de quel amour</td>\n",
       "    </tr>\n",
       "    <tr>\n",
       "      <th>16</th>\n",
       "      <td>french</td>\n",
       "      <td>cinema is the best thing ever invented</td>\n",
       "    </tr>\n",
       "    <tr>\n",
       "      <th>17</th>\n",
       "      <td>french</td>\n",
       "      <td>@a_mafessonii vc curte ir no cinema</td>\n",
       "    </tr>\n",
       "    <tr>\n",
       "      <th>18</th>\n",
       "      <td>french</td>\n",
       "      <td>The Servant… cheguei no ep que conta como o be...</td>\n",
       "    </tr>\n",
       "    <tr>\n",
       "      <th>19</th>\n",
       "      <td>french</td>\n",
       "      <td>The business card scene of American Psycho wil...</td>\n",
       "    </tr>\n",
       "    <tr>\n",
       "      <th>20</th>\n",
       "      <td>french</td>\n",
       "      <td>@EnrichmentTbha Awesome! At last! Bon voyage!</td>\n",
       "    </tr>\n",
       "    <tr>\n",
       "      <th>21</th>\n",
       "      <td>french</td>\n",
       "      <td>@outofcontextnis Regarde les sacs utilisés dur...</td>\n",
       "    </tr>\n",
       "    <tr>\n",
       "      <th>22</th>\n",
       "      <td>french</td>\n",
       "      <td>@wnmus__ Je viens de réaliser que Bliss n'aura...</td>\n",
       "    </tr>\n",
       "    <tr>\n",
       "      <th>23</th>\n",
       "      <td>french</td>\n",
       "      <td>Mon premier voyage en voiture pour aller à la ...</td>\n",
       "    </tr>\n",
       "    <tr>\n",
       "      <th>24</th>\n",
       "      <td>english</td>\n",
       "      <td>@araghtciuh @PAYDAYGame Cool!</td>\n",
       "    </tr>\n",
       "    <tr>\n",
       "      <th>25</th>\n",
       "      <td>english</td>\n",
       "      <td>@1MarkMoss Imagine trying to push lies for a t...</td>\n",
       "    </tr>\n",
       "    <tr>\n",
       "      <th>26</th>\n",
       "      <td>english</td>\n",
       "      <td>@Ntha_Paid In primary school we use to have ga...</td>\n",
       "    </tr>\n",
       "    <tr>\n",
       "      <th>27</th>\n",
       "      <td>english</td>\n",
       "      <td>[Bloomberg] Watch a live production of Founder...</td>\n",
       "    </tr>\n",
       "    <tr>\n",
       "      <th>28</th>\n",
       "      <td>english</td>\n",
       "      <td>Many actually, fuck me.”Anna winced. “I\\nOUNAS...</td>\n",
       "    </tr>\n",
       "    <tr>\n",
       "      <th>29</th>\n",
       "      <td>english</td>\n",
       "      <td>LES QUOTES J’AVAIS PAS VU ?????</td>\n",
       "    </tr>\n",
       "    <tr>\n",
       "      <th>30</th>\n",
       "      <td>english</td>\n",
       "      <td>@KaiLivesOnEarth The way you realized this quo...</td>\n",
       "    </tr>\n",
       "    <tr>\n",
       "      <th>31</th>\n",
       "      <td>english</td>\n",
       "      <td>@JacobKreider @RiotLinguist it's the trump can...</td>\n",
       "    </tr>\n",
       "    <tr>\n",
       "      <th>32</th>\n",
       "      <td>english</td>\n",
       "      <td>Lee know.. you're 😍</td>\n",
       "    </tr>\n",
       "    <tr>\n",
       "      <th>33</th>\n",
       "      <td>english</td>\n",
       "      <td>おはようございます(*ˊ˘ˋ*)｡♪:*°\\n久しぶりに早起きしたAsuhaでございます。眠...</td>\n",
       "    </tr>\n",
       "    <tr>\n",
       "      <th>34</th>\n",
       "      <td>english</td>\n",
       "      <td>Thursday: Dumpster sit in the dark and listen ...</td>\n",
       "    </tr>\n",
       "    <tr>\n",
       "      <th>35</th>\n",
       "      <td>english</td>\n",
       "      <td>More milestones reached! We are incredibly tha...</td>\n",
       "    </tr>\n",
       "  </tbody>\n",
       "</table>\n",
       "</div>"
      ],
      "text/plain": [
       "   language                                            content\n",
       "0    darija  Visiteur f l'afrique kaaaaamalin wa9ila kydkhl...\n",
       "1    darija  Tswira mea chi montakhab hsn mn lmghrib https:...\n",
       "2    darija                            https://t.co/qh6yOCwNvb\n",
       "3    darija  نمیدونم چرا تو زندگیم همش نمیشه....\\nچند برابر...\n",
       "4    darija  @tasmdn C’est quoi cette vulgarité ma soeur ? ...\n",
       "5    darija  @bent_riif Après le chleuh et le rif c’est dér...\n",
       "6    darija  @FranckBelhasSVF En conférence de presse, ils ...\n",
       "7    darija  C’est exact Yassine Bounou parle la darija des...\n",
       "8    darija  Bismillah kuat ampe Maghrib, no lemes lemes kl...\n",
       "9    darija   @fciryshakke abg dha nunggu dri maghrib kh bg😞😞😞\n",
       "10   darija    @bernamadotcom Sembahyang maghrib dalam sungai?\n",
       "11   darija  @Alhaqqan90 I wait like 3-5 minutes after Magh...\n",
       "12   french  la direzione che avrebbe preso la mia vita se ...\n",
       "13   french  @lydiarichesse40 @capriciamandala @capri_wilma...\n",
       "14   french  @SebukaSteve Voilà docta, il parait que tout l...\n",
       "15   french                   @musvshi tu parles de quel amour\n",
       "16   french             cinema is the best thing ever invented\n",
       "17   french                @a_mafessonii vc curte ir no cinema\n",
       "18   french  The Servant… cheguei no ep que conta como o be...\n",
       "19   french  The business card scene of American Psycho wil...\n",
       "20   french      @EnrichmentTbha Awesome! At last! Bon voyage!\n",
       "21   french  @outofcontextnis Regarde les sacs utilisés dur...\n",
       "22   french  @wnmus__ Je viens de réaliser que Bliss n'aura...\n",
       "23   french  Mon premier voyage en voiture pour aller à la ...\n",
       "24  english                      @araghtciuh @PAYDAYGame Cool!\n",
       "25  english  @1MarkMoss Imagine trying to push lies for a t...\n",
       "26  english  @Ntha_Paid In primary school we use to have ga...\n",
       "27  english  [Bloomberg] Watch a live production of Founder...\n",
       "28  english  Many actually, fuck me.”Anna winced. “I\\nOUNAS...\n",
       "29  english                    LES QUOTES J’AVAIS PAS VU ?????\n",
       "30  english  @KaiLivesOnEarth The way you realized this quo...\n",
       "31  english  @JacobKreider @RiotLinguist it's the trump can...\n",
       "32  english                                Lee know.. you're 😍\n",
       "33  english  おはようございます(*ˊ˘ˋ*)｡♪:*°\\n久しぶりに早起きしたAsuhaでございます。眠...\n",
       "34  english  Thursday: Dumpster sit in the dark and listen ...\n",
       "35  english  More milestones reached! We are incredibly tha..."
      ]
     },
     "execution_count": 5,
     "metadata": {},
     "output_type": "execute_result"
    }
   ],
   "source": [
    "# TODO: Clean the text data by removing unnecessary characters, punctuation, and stopwords\n"
   ]
  },
  {
   "cell_type": "markdown",
   "id": "d527b914-9d3b-4e47-80a7-5fa26f227537",
   "metadata": {
    "tags": []
   },
   "source": [
    "## Step 3: Splitting the Data"
   ]
  },
  {
   "cell_type": "markdown",
   "id": "fa63644e-6c90-4b99-80c9-ffcee6f6a421",
   "metadata": {},
   "source": [
    "Split the preprocessed data into training and testing sets."
   ]
  },
  {
   "cell_type": "code",
   "execution_count": null,
   "id": "1289cbd0-b2a8-4d34-badb-25600ae56f2c",
   "metadata": {},
   "outputs": [],
   "source": [
    "# TODO: Split the preprocessed data into training and testing sets"
   ]
  },
  {
   "cell_type": "markdown",
   "id": "b6bd623f-e29a-48ee-86da-8a306f869cf2",
   "metadata": {},
   "source": [
    "## Step 4: Saving the Data"
   ]
  },
  {
   "cell_type": "markdown",
   "id": "716529ae-b860-4ac0-b707-986a35d37990",
   "metadata": {},
   "source": [
    "Save the preprocessed data to disk for future use in training and evaluating the language detection model"
   ]
  },
  {
   "cell_type": "code",
   "execution_count": null,
   "id": "15637af4-9381-45dd-b8a4-0ff9703cd070",
   "metadata": {},
   "outputs": [],
   "source": [
    "# TODO: Save the preprocessed data to disk for future use"
   ]
  }
 ],
 "metadata": {
  "kernelspec": {
   "display_name": "Python 3 (ipykernel)",
   "language": "python",
   "name": "python3"
  },
  "language_info": {
   "codemirror_mode": {
    "name": "ipython",
    "version": 3
   },
   "file_extension": ".py",
   "mimetype": "text/x-python",
   "name": "python",
   "nbconvert_exporter": "python",
   "pygments_lexer": "ipython3",
   "version": "3.9.10"
  }
 },
 "nbformat": 4,
 "nbformat_minor": 5
}
